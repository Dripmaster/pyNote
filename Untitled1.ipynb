{
 "cells": [
  {
   "cell_type": "code",
   "execution_count": 1,
   "metadata": {},
   "outputs": [],
   "source": [
    "f = open('F:\\프로그래밍\\인공지능\\wikiextractor\\wiki_data.txt', encoding=\"utf8\")"
   ]
  },
  {
   "cell_type": "code",
   "execution_count": 2,
   "metadata": {},
   "outputs": [
    {
     "name": "stdout",
     "output_type": "stream",
     "text": [
      "1번째 줄 :<doc id=\"5\" url=\"https://ko.wikipedia.org/wiki?curid=5\" title=\"지미 카터\">\n",
      "\n",
      "2번째 줄 :지미 카터\n",
      "\n",
      "3번째 줄 :제임스 얼 \"지미\" 카터 주니어(, 1924년 10월 1일 ~ )는 민주당 출신 미국 39번째 대통령 (1977년 ~ 1981년)이다.\n",
      "\n",
      "4번째 줄 :지미 카터는 조지아주 섬터 카운티 플레인스 마을에서 태어났다. 조지아 공과대학교를 졸업하였다. 그 후 해군에 들어가 전함·원자력·잠수함의 승무원으로 일하였다. 1953년 미국 해군 대위로 예편하였고 이후 땅콩·면화 등을 가꿔 많은 돈을 벌었다. 그의 별명이 \"땅콩 농부\" (Peanut Farmer)로 알려졌다.\n",
      "\n",
      "5번째 줄 :1962년 조지아 주 상원 의원 선거에서 낙선하나 그 선거가 부정선거 였음을 입증하게 되어 당선되고, 1966년 조지아 주 지사 선거에 낙선하지만 1970년 조지아 주 지사를 역임했다. 대통령이 되기 전 조지아주 상원의원을 두번 연임했으며, 1971년부터 1975년까지 조지아 지사로 근무했다. 조지아 주지사로 지내면서, 미국에 사는 흑인 등용법을 내세웠다.\n",
      "\n"
     ]
    }
   ],
   "source": [
    "i=0\n",
    "while True:\n",
    "    line = f.readline()\n",
    "    if line != '\\n':\n",
    "        i=i+1\n",
    "        print(\"%d번째 줄 :\"%i + line)\n",
    "    if i==5:\n",
    "        break \n",
    "f.close()"
   ]
  },
  {
   "cell_type": "code",
   "execution_count": 3,
   "metadata": {},
   "outputs": [],
   "source": [
    "from konlpy.tag import Okt"
   ]
  },
  {
   "cell_type": "code",
   "execution_count": 4,
   "metadata": {},
   "outputs": [],
   "source": [
    "okt = Okt()"
   ]
  },
  {
   "cell_type": "code",
   "execution_count": 5,
   "metadata": {},
   "outputs": [
    {
     "name": "stdout",
     "output_type": "stream",
     "text": [
      "[('단독', 'Noun'), ('입찰', 'Noun'), ('보다', 'Josa'), ('복수', 'Noun'), ('입찰', 'Noun'), ('의', 'Josa'), ('경우', 'Noun'), ('asfasf', 'Alpha')]\n"
     ]
    }
   ],
   "source": [
    "print(okt.pos(u'단독입찰보다 복수입찰의 경우asfasf'))"
   ]
  },
  {
   "cell_type": "code",
   "execution_count": 6,
   "metadata": {},
   "outputs": [
    {
     "name": "stdout",
     "output_type": "stream",
     "text": [
      "['korea', '입찰', '보다', '복수', '입찰', '의', '경우']\n"
     ]
    }
   ],
   "source": [
    "print(okt.morphs(u'korea입찰보다 복수입찰의 경우'))"
   ]
  },
  {
   "cell_type": "code",
   "execution_count": 7,
   "metadata": {},
   "outputs": [
    {
     "name": "stdout",
     "output_type": "stream",
     "text": [
      "['korea', '단독', '입찰', '보다', '복수', '입찰', '의', '경우']\n"
     ]
    }
   ],
   "source": [
    "print(okt.morphs(u'korea 단독입찰보다 복수입찰의 경우',norm=True))"
   ]
  },
  {
   "cell_type": "code",
   "execution_count": 8,
   "metadata": {},
   "outputs": [
    {
     "name": "stdout",
     "output_type": "stream",
     "text": [
      "['1953년', '미국', '해군', '대위', '로', '예', '편하였고', '이후', '땅콩', '·', '면화', '등', '을', '가꿔', '많은', '돈', '을', '벌었다', '.', '그', '의', '별명', '이', '\"', '땅콩', '농부', '\"', '(', 'Peanut', 'Farmer', ')', '로', '알려졌다']\n"
     ]
    }
   ],
   "source": [
    "print(okt.morphs(u'1953년 미국 해군 대위로 예편하였고 이후 땅콩·면화 등을 가꿔 많은 돈을 벌었다. 그의 별명이 \"땅콩 농부\" (Peanut Farmer)로 알려졌다'))"
   ]
  },
  {
   "cell_type": "code",
   "execution_count": 9,
   "metadata": {},
   "outputs": [
    {
     "name": "stdout",
     "output_type": "stream",
     "text": [
      "['1953년', '미국', '해군', '대위', '로', '예', '편하였고', '이후', '땅콩', '·', '면화', '등', '을', '가꿔', '많은', '돈', '을', '벌었다', '.', '그', '의', '별명', '이', '\"', '땅콩', '농부', '\"', '(', 'Peanut', 'Farmer', ')', '로', '알려졌다']\n"
     ]
    }
   ],
   "source": [
    "print(okt.morphs(u'1953년 미국 해군 대위로 예편하였고 이후 땅콩·면화 등을 가꿔 많은 돈을 벌었다. 그의 별명이 \"땅콩 농부\" (Peanut Farmer)로 알려졌다'))"
   ]
  },
  {
   "cell_type": "code",
   "execution_count": 10,
   "metadata": {},
   "outputs": [
    {
     "name": "stdout",
     "output_type": "stream",
     "text": [
      "['1953년', '미국', '해군', '대위', '로', '예', '편하다', '이후', '땅콩', '·', '면화', '등', '을', '가꾸다', '많다', '돈', '을', '벌다', '.', '그', '의', '별명', '이', '\"', '땅콩', '농부', '\"', '(', 'Peanut', 'Farmer', ')', '로', '알려지다']\n"
     ]
    }
   ],
   "source": [
    "print(okt.morphs(u'1953년 미국 해군 대위로 예편하였고 이후 땅콩·면화 등을 가꿔 많은 돈을 벌었다. 그의 별명이 \"땅콩 농부\" (Peanut Farmer)로 알려졌다',norm = True, stem = True))"
   ]
  },
  {
   "cell_type": "code",
   "execution_count": 11,
   "metadata": {},
   "outputs": [
    {
     "name": "stdout",
     "output_type": "stream",
     "text": [
      "[('1953년', 'Number'), ('미국', 'Noun'), ('해군', 'Noun'), ('대위', 'Noun'), ('로', 'Josa'), ('예', 'Noun'), ('편하였고', 'Adjective'), ('이후', 'Noun'), ('땅콩', 'Noun'), ('·', 'Punctuation'), ('면화', 'Noun'), ('등', 'Noun'), ('을', 'Josa'), ('가꿔', 'Verb'), ('많은', 'Adjective'), ('돈', 'Noun'), ('을', 'Josa'), ('벌었다', 'Verb'), ('.', 'Punctuation'), ('그', 'Noun'), ('의', 'Josa'), ('별명', 'Noun'), ('이', 'Josa'), ('\"', 'Punctuation'), ('땅콩', 'Noun'), ('농부', 'Noun'), ('\"', 'Punctuation'), ('(', 'Punctuation'), ('Peanut', 'Alpha'), ('Farmer', 'Alpha'), (')', 'Punctuation'), ('로', 'Noun'), ('알려졌다', 'Verb')]\n"
     ]
    }
   ],
   "source": [
    "print(okt.pos(u'1953년 미국 해군 대위로 예편하였고 이후 땅콩·면화 등을 가꿔 많은 돈을 벌었다. 그의 별명이 \"땅콩 농부\" (Peanut Farmer)로 알려졌다',norm = True))"
   ]
  },
  {
   "cell_type": "code",
   "execution_count": 12,
   "metadata": {},
   "outputs": [],
   "source": [
    "line = \"\"\"지미 카터는 조지아주 섬터 카운티 플레인스 마을에서 태어났다. 조지아 공과대학교를 졸업하였다. 그 후 해군에 들어가 전함·원자력·잠수함의 승무원으로 일하였다. 1953년 미국 해군 대위로 예편하였고 이후 땅콩·면화 등을 가꿔 많은 돈을 벌었다. 그의 별명이 \"땅콩 농부\" (Peanut Farmer)로 알려졌다.\"\"\""
   ]
  },
  {
   "cell_type": "code",
   "execution_count": 13,
   "metadata": {},
   "outputs": [
    {
     "name": "stdout",
     "output_type": "stream",
     "text": [
      "지미 카터는 조지아주 섬터 카운티 플레인스 마을에서 태어났다. 조지아 공과대학교를 졸업하였다. 그 후 해군에 들어가 전함·원자력·잠수함의 승무원으로 일하였다. 1953년 미국 해군 대위로 예편하였고 이후 땅콩·면화 등을 가꿔 많은 돈을 벌었다. 그의 별명이 \"땅콩 농부\" (Peanut Farmer)로 알려졌다.\n"
     ]
    }
   ],
   "source": [
    "print(line)"
   ]
  },
  {
   "cell_type": "code",
   "execution_count": 14,
   "metadata": {},
   "outputs": [],
   "source": [
    "line = line.split()"
   ]
  },
  {
   "cell_type": "code",
   "execution_count": 15,
   "metadata": {},
   "outputs": [
    {
     "name": "stdout",
     "output_type": "stream",
     "text": [
      "['지미', '카터는', '조지아주', '섬터', '카운티', '플레인스', '마을에서', '태어났다.', '조지아', '공과대학교를', '졸업하였다.', '그', '후', '해군에', '들어가', '전함·원자력·잠수함의', '승무원으로', '일하였다.', '1953년', '미국', '해군', '대위로', '예편하였고', '이후', '땅콩·면화', '등을', '가꿔', '많은', '돈을', '벌었다.', '그의', '별명이', '\"땅콩', '농부\"', '(Peanut', 'Farmer)로', '알려졌다.']\n"
     ]
    }
   ],
   "source": [
    "print(line)"
   ]
  },
  {
   "cell_type": "code",
   "execution_count": 16,
   "metadata": {},
   "outputs": [],
   "source": [
    "import re\n",
    "p = re.compile(\"[가-힣]+\")"
   ]
  },
  {
   "cell_type": "code",
   "execution_count": 20,
   "metadata": {},
   "outputs": [
    {
     "name": "stdout",
     "output_type": "stream",
     "text": [
      "['지미', '카터는', '조지아주', '섬터', '카운티', '플레인스', '마을에서', '태어났다', '조지아', '공과대학교를', '졸업하였다', '그', '후', '해군에', '들어가', '전함', '원자력', '잠수함의', '승무원으로', '일하였다', '년', '미국', '해군', '대위로', '예편하였고', '이후', '땅콩', '면화', '등을', '가꿔', '많은', '돈을', '벌었다', '그의', '별명이', '땅콩', '농부', '로', '알려졌다']\n"
     ]
    }
   ],
   "source": [
    "result = []\n",
    "for word in line:\n",
    "    m = p.findall(word)\n",
    "    if m:\n",
    "        for w in m:\n",
    "            result.append(w)\n",
    "print(result)"
   ]
  },
  {
   "cell_type": "code",
   "execution_count": 21,
   "metadata": {},
   "outputs": [
    {
     "name": "stdout",
     "output_type": "stream",
     "text": [
      "1번째 줄 :<doc id=\"5\" url=\"https://ko.wikipedia.org/wiki?curid=5\" title=\"지미 카터\">\n",
      "\n",
      "2번째 줄 :지미 카터\n",
      "\n",
      "3번째 줄 :제임스 얼 \"지미\" 카터 주니어(, 1924년 10월 1일 ~ )는 민주당 출신 미국 39번째 대통령 (1977년 ~ 1981년)이다.\n",
      "\n",
      "4번째 줄 :지미 카터는 조지아주 섬터 카운티 플레인스 마을에서 태어났다. 조지아 공과대학교를 졸업하였다. 그 후 해군에 들어가 전함·원자력·잠수함의 승무원으로 일하였다. 1953년 미국 해군 대위로 예편하였고 이후 땅콩·면화 등을 가꿔 많은 돈을 벌었다. 그의 별명이 \"땅콩 농부\" (Peanut Farmer)로 알려졌다.\n",
      "\n",
      "5번째 줄 :1962년 조지아 주 상원 의원 선거에서 낙선하나 그 선거가 부정선거 였음을 입증하게 되어 당선되고, 1966년 조지아 주 지사 선거에 낙선하지만 1970년 조지아 주 지사를 역임했다. 대통령이 되기 전 조지아주 상원의원을 두번 연임했으며, 1971년부터 1975년까지 조지아 지사로 근무했다. 조지아 주지사로 지내면서, 미국에 사는 흑인 등용법을 내세웠다.\n",
      "\n"
     ]
    }
   ],
   "source": [
    "f = open('F:\\프로그래밍\\인공지능\\wikiextractor\\wiki_data.txt', encoding=\"utf8\")\n",
    "i=0\n",
    "while True:\n",
    "    line = f.readline()\n",
    "    if line != '\\n':\n",
    "        i=i+1\n",
    "        print(\"%d번째 줄 :\"%i + line)\n",
    "    if i==5:\n",
    "        break \n",
    "f.close()"
   ]
  },
  {
   "cell_type": "code",
   "execution_count": 54,
   "metadata": {},
   "outputs": [
    {
     "name": "stdout",
     "output_type": "stream",
     "text": [
      "50000번째 줄\n",
      "100000번째 줄\n",
      "150000번째 줄\n",
      "200000번째 줄\n",
      "250000번째 줄\n",
      "300000번째 줄\n",
      "350000번째 줄\n",
      "400000번째 줄\n",
      "450000번째 줄\n",
      "500000번째 줄\n",
      "550000번째 줄\n",
      "600000번째 줄\n",
      "650000번째 줄\n",
      "700000번째 줄\n",
      "750000번째 줄\n",
      "800000번째 줄\n",
      "850000번째 줄\n",
      "900000번째 줄\n",
      "950000번째 줄\n",
      "1000000번째 줄\n",
      "1050000번째 줄\n",
      "1100000번째 줄\n",
      "1150000번째 줄\n",
      "1200000번째 줄\n",
      "1250000번째 줄\n",
      "1300000번째 줄\n",
      "1350000번째 줄\n",
      "1400000번째 줄\n",
      "1450000번째 줄\n",
      "1500000번째 줄\n",
      "1550000번째 줄\n",
      "1600000번째 줄\n",
      "1650000번째 줄\n",
      "1700000번째 줄\n",
      "1750000번째 줄\n",
      "1800000번째 줄\n",
      "1850000번째 줄\n",
      "1900000번째 줄\n",
      "1950000번째 줄\n",
      "2000000번째 줄\n",
      "2050000번째 줄\n",
      "2100000번째 줄\n",
      "2150000번째 줄\n",
      "2200000번째 줄\n",
      "2250000번째 줄\n",
      "2300000번째 줄\n",
      "2350000번째 줄\n",
      "2400000번째 줄\n",
      "2450000번째 줄\n",
      "2500000번째 줄\n",
      "2550000번째 줄\n",
      "2600000번째 줄\n",
      "2650000번째 줄\n",
      "2700000번째 줄\n",
      "2750000번째 줄\n",
      "2800000번째 줄\n",
      "2850000번째 줄\n",
      "2900000번째 줄\n",
      "2950000번째 줄\n",
      "3000000번째 줄\n",
      "3050000번째 줄\n",
      "3100000번째 줄\n",
      "3150000번째 줄\n",
      "3200000번째 줄\n",
      "3250000번째 줄\n",
      "3300000번째 줄\n",
      "['지미 카터', '제임스 얼 지미 카터 주니어 년 월 일  는 민주당 출신 미국 번째 대통령 년  년이다', '지미 카터는 조지아주 섬터 카운티 플레인스 마을에서 태어났다', '년 조지아 주 상원 의원 선거에서 낙선하나 그 선거가 부정선거 였음을 입증하게 되어 당선되고 년 조지아 주 지사 선거에 낙선하지만 년 조지아 주 지사를 역임했다', '년 대통령 선거에 민주당 후보로 출마하여 도덕주의 정책으로 내세워 포드를 누르고 당선되었다', '카터 대통령은 에너지 개발을 촉구했으나 공화당의 반대로 무산되었다', '카터는 이집트와 이스라엘을 조정하여 캠프 데이비드에서 안와르 사다트 대통령과 메나헴 베긴 수상과 함께 중동 평화를 위한 캠프데이비드 협정을 체결했다', '그러나 이것은 공화당과 미국의 유대인 단체의 반발을 일으켰다', '카터는 년대 후반 당시 대한민국 등 인권 후진국의 국민들의 인권을 지키기 위해 노력했으며 취임 이후 계속해서 도덕정치를 내세웠다', '그러나 주 이란 미국 대사관 인질 사건에서 인질 구출 실패를 이유로 년 대통령 선거에서 공화당의 로널드 레이건 후보에게 져 결국 재선에 실패했다']\n"
     ]
    }
   ],
   "source": [
    "p = re.compile(' +')\n",
    "result = []\n",
    "from string import punctuation\n",
    "punctuation+='\\n1234567890qazwsxedcrfvtgbyhnujmikolp'\n",
    "def repreprocessing(s):\n",
    "    return ''.join(c for c in s if c not in punctuation)\n",
    "\n",
    "f = open('F:\\프로그래밍\\인공지능\\wikiextractor\\wiki_data.txt', encoding=\"utf8\")\n",
    "i=0\n",
    "\n",
    "while True:\n",
    "    liner = f.readline()\n",
    "    if not liner: break\n",
    "    line = liner.split('.')\n",
    "    if line[0] != '\\n':\n",
    "        i=i+1\n",
    "        if i%50000 == 0:\n",
    "            print(\"%d번째 줄\"%i)\n",
    "        text = [repreprocessing(x) for x in line]\n",
    "        for t in text:\n",
    "            m = p.match(t)\n",
    "            if m==None and t!='':\n",
    "                result.append(t)\n",
    "f.close()\n",
    "print(result[:10])"
   ]
  },
  {
   "cell_type": "code",
   "execution_count": 56,
   "metadata": {},
   "outputs": [
    {
     "name": "stdout",
     "output_type": "stream",
     "text": [
      "단어 집합의 크기 : 2950273\n"
     ]
    }
   ],
   "source": [
    "from tensorflow.keras.preprocessing.text import Tokenizer\n",
    "from tensorflow.keras.utils import to_categorical\n",
    "t = Tokenizer()\n",
    "t.fit_on_texts(result)\n",
    "vocab_size = len(t.word_index) + 1\n",
    "print('단어 집합의 크기 : %d' % vocab_size)"
   ]
  },
  {
   "cell_type": "code",
   "execution_count": 57,
   "metadata": {},
   "outputs": [
    {
     "data": {
      "text/plain": [
       "[[5607, 13446],\n",
       " [634, 17935],\n",
       " [634, 17935, 5607],\n",
       " [634, 17935, 5607, 13446],\n",
       " [634, 17935, 5607, 13446, 3178],\n",
       " [634, 17935, 5607, 13446, 3178, 1],\n",
       " [634, 17935, 5607, 13446, 3178, 1, 2],\n",
       " [634, 17935, 5607, 13446, 3178, 1, 2, 3],\n",
       " [634, 17935, 5607, 13446, 3178, 1, 2, 3, 6],\n",
       " [634, 17935, 5607, 13446, 3178, 1, 2, 3, 6, 1498],\n",
       " [634, 17935, 5607, 13446, 3178, 1, 2, 3, 6, 1498, 457]]"
      ]
     },
     "execution_count": 57,
     "metadata": {},
     "output_type": "execute_result"
    }
   ],
   "source": [
    "sequences = list()\n",
    "\n",
    "for line in result: \n",
    "    encoded = t.texts_to_sequences([line])[0] \n",
    "    for i in range(1, len(encoded)):\n",
    "        sequence = encoded[:i+1]\n",
    "        sequences.append(sequence)\n",
    "\n",
    "sequences[:11] "
   ]
  },
  {
   "cell_type": "code",
   "execution_count": 71,
   "metadata": {},
   "outputs": [
    {
     "name": "stdout",
     "output_type": "stream",
     "text": [
      "빈도수 상위 10번 단어 : 은\n",
      "빈도수 상위 11번 단어 : 그\n",
      "빈도수 상위 12번 단어 : 및\n",
      "빈도수 상위 13번 단어 : 다음과\n",
      "빈도수 상위 14번 단어 : 대한민국의\n",
      "빈도수 상위 15번 단어 : 다른\n",
      "빈도수 상위 16번 단어 : 한\n",
      "빈도수 상위 17번 단어 : 같은\n",
      "빈도수 상위 18번 단어 : 또는\n",
      "빈도수 상위 19번 단어 : 대한\n"
     ]
    }
   ],
   "source": [
    "index_to_word={}\n",
    "for key, value in t.word_index.items(): # 인덱스를 단어로 바꾸기 위해 index_to_word를 생성\n",
    "    index_to_word[value] = key\n",
    "\n",
    "for i in range(10,20):\n",
    "    print(\"빈도수 상위 %d번 단어 : \"%i+index_to_word[i])"
   ]
  },
  {
   "cell_type": "code",
   "execution_count": 72,
   "metadata": {},
   "outputs": [
    {
     "name": "stdout",
     "output_type": "stream",
     "text": [
      "샘플의 최대 길이 : 791\n"
     ]
    }
   ],
   "source": [
    "max_len=max(len(l) for l in sequences)\n",
    "print('샘플의 최대 길이 : {}'.format(max_len))"
   ]
  },
  {
   "cell_type": "code",
   "execution_count": 75,
   "metadata": {},
   "outputs": [],
   "source": [
    "from tensorflow.keras.preprocessing.sequence import pad_sequences\n",
    "import numpy as np"
   ]
  },
  {
   "cell_type": "code",
   "execution_count": 77,
   "metadata": {},
   "outputs": [
    {
     "name": "stdout",
     "output_type": "stream",
     "text": [
      "[[5607, 13446], [634, 17935], [634, 17935, 5607]]\n"
     ]
    }
   ],
   "source": [
    "print(sequences[:3])"
   ]
  },
  {
   "cell_type": "code",
   "execution_count": 78,
   "metadata": {},
   "outputs": [
    {
     "ename": "MemoryError",
     "evalue": "",
     "output_type": "error",
     "traceback": [
      "\u001b[1;31m---------------------------------------------------------------------------\u001b[0m",
      "\u001b[1;31mMemoryError\u001b[0m                               Traceback (most recent call last)",
      "\u001b[1;32m<ipython-input-78-408750f9377a>\u001b[0m in \u001b[0;36m<module>\u001b[1;34m\u001b[0m\n\u001b[1;32m----> 1\u001b[1;33m \u001b[0msequences\u001b[0m \u001b[1;33m=\u001b[0m \u001b[0mpad_sequences\u001b[0m\u001b[1;33m(\u001b[0m\u001b[0msequences\u001b[0m\u001b[1;33m,\u001b[0m \u001b[0mmaxlen\u001b[0m\u001b[1;33m=\u001b[0m\u001b[0mmax_len\u001b[0m\u001b[1;33m,\u001b[0m \u001b[0mpadding\u001b[0m\u001b[1;33m=\u001b[0m\u001b[1;34m'pre'\u001b[0m\u001b[1;33m)\u001b[0m\u001b[1;33m\u001b[0m\u001b[1;33m\u001b[0m\u001b[0m\n\u001b[0m",
      "\u001b[1;32mF:\\pyANA\\lib\\site-packages\\keras_preprocessing\\sequence.py\u001b[0m in \u001b[0;36mpad_sequences\u001b[1;34m(sequences, maxlen, dtype, padding, truncating, value)\u001b[0m\n\u001b[0;32m     81\u001b[0m                          .format(dtype, type(value)))\n\u001b[0;32m     82\u001b[0m \u001b[1;33m\u001b[0m\u001b[0m\n\u001b[1;32m---> 83\u001b[1;33m     \u001b[0mx\u001b[0m \u001b[1;33m=\u001b[0m \u001b[0mnp\u001b[0m\u001b[1;33m.\u001b[0m\u001b[0mfull\u001b[0m\u001b[1;33m(\u001b[0m\u001b[1;33m(\u001b[0m\u001b[0mnum_samples\u001b[0m\u001b[1;33m,\u001b[0m \u001b[0mmaxlen\u001b[0m\u001b[1;33m)\u001b[0m \u001b[1;33m+\u001b[0m \u001b[0msample_shape\u001b[0m\u001b[1;33m,\u001b[0m \u001b[0mvalue\u001b[0m\u001b[1;33m,\u001b[0m \u001b[0mdtype\u001b[0m\u001b[1;33m=\u001b[0m\u001b[0mdtype\u001b[0m\u001b[1;33m)\u001b[0m\u001b[1;33m\u001b[0m\u001b[1;33m\u001b[0m\u001b[0m\n\u001b[0m\u001b[0;32m     84\u001b[0m     \u001b[1;32mfor\u001b[0m \u001b[0midx\u001b[0m\u001b[1;33m,\u001b[0m \u001b[0ms\u001b[0m \u001b[1;32min\u001b[0m \u001b[0menumerate\u001b[0m\u001b[1;33m(\u001b[0m\u001b[0msequences\u001b[0m\u001b[1;33m)\u001b[0m\u001b[1;33m:\u001b[0m\u001b[1;33m\u001b[0m\u001b[1;33m\u001b[0m\u001b[0m\n\u001b[0;32m     85\u001b[0m         \u001b[1;32mif\u001b[0m \u001b[1;32mnot\u001b[0m \u001b[0mlen\u001b[0m\u001b[1;33m(\u001b[0m\u001b[0ms\u001b[0m\u001b[1;33m)\u001b[0m\u001b[1;33m:\u001b[0m\u001b[1;33m\u001b[0m\u001b[1;33m\u001b[0m\u001b[0m\n",
      "\u001b[1;32mF:\\pyANA\\lib\\site-packages\\numpy\\core\\numeric.py\u001b[0m in \u001b[0;36mfull\u001b[1;34m(shape, fill_value, dtype, order)\u001b[0m\n\u001b[0;32m    333\u001b[0m     \u001b[1;32mif\u001b[0m \u001b[0mdtype\u001b[0m \u001b[1;32mis\u001b[0m \u001b[1;32mNone\u001b[0m\u001b[1;33m:\u001b[0m\u001b[1;33m\u001b[0m\u001b[1;33m\u001b[0m\u001b[0m\n\u001b[0;32m    334\u001b[0m         \u001b[0mdtype\u001b[0m \u001b[1;33m=\u001b[0m \u001b[0marray\u001b[0m\u001b[1;33m(\u001b[0m\u001b[0mfill_value\u001b[0m\u001b[1;33m)\u001b[0m\u001b[1;33m.\u001b[0m\u001b[0mdtype\u001b[0m\u001b[1;33m\u001b[0m\u001b[1;33m\u001b[0m\u001b[0m\n\u001b[1;32m--> 335\u001b[1;33m     \u001b[0ma\u001b[0m \u001b[1;33m=\u001b[0m \u001b[0mempty\u001b[0m\u001b[1;33m(\u001b[0m\u001b[0mshape\u001b[0m\u001b[1;33m,\u001b[0m \u001b[0mdtype\u001b[0m\u001b[1;33m,\u001b[0m \u001b[0morder\u001b[0m\u001b[1;33m)\u001b[0m\u001b[1;33m\u001b[0m\u001b[1;33m\u001b[0m\u001b[0m\n\u001b[0m\u001b[0;32m    336\u001b[0m     \u001b[0mmultiarray\u001b[0m\u001b[1;33m.\u001b[0m\u001b[0mcopyto\u001b[0m\u001b[1;33m(\u001b[0m\u001b[0ma\u001b[0m\u001b[1;33m,\u001b[0m \u001b[0mfill_value\u001b[0m\u001b[1;33m,\u001b[0m \u001b[0mcasting\u001b[0m\u001b[1;33m=\u001b[0m\u001b[1;34m'unsafe'\u001b[0m\u001b[1;33m)\u001b[0m\u001b[1;33m\u001b[0m\u001b[1;33m\u001b[0m\u001b[0m\n\u001b[0;32m    337\u001b[0m     \u001b[1;32mreturn\u001b[0m \u001b[0ma\u001b[0m\u001b[1;33m\u001b[0m\u001b[1;33m\u001b[0m\u001b[0m\n",
      "\u001b[1;31mMemoryError\u001b[0m: "
     ]
    }
   ],
   "source": [
    "sequences = pad_sequences(sequences, maxlen=max_len, padding='pre')"
   ]
  },
  {
   "cell_type": "code",
   "execution_count": null,
   "metadata": {},
   "outputs": [],
   "source": []
  }
 ],
 "metadata": {
  "kernelspec": {
   "display_name": "Python 3",
   "language": "python",
   "name": "python3"
  },
  "language_info": {
   "codemirror_mode": {
    "name": "ipython",
    "version": 3
   },
   "file_extension": ".py",
   "mimetype": "text/x-python",
   "name": "python",
   "nbconvert_exporter": "python",
   "pygments_lexer": "ipython3",
   "version": "3.7.4"
  }
 },
 "nbformat": 4,
 "nbformat_minor": 2
}

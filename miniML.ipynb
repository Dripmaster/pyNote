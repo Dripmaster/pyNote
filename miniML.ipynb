{
 "cells": [
  {
   "cell_type": "code",
   "execution_count": 59,
   "metadata": {
    "scrolled": true
   },
   "outputs": [
    {
     "name": "stdout",
     "output_type": "stream",
     "text": [
      "['지미 카 터']\n",
      "['제임스 얼 \" 지미\" 카 터 주니어는 민주당 출신 미국 39 번째 대', '통령 이다.']\n",
      "['지미 카 터는 조지 아주 섬 터 카운티 플 레 인스 마을에서 태어났다.', '조지아 공과 대학교를 졸업하였다.', '그 후 해군에 들어가 전함· 원자력· 잠수함의 승무원으로 일하였다.', '1953년 미국 해군 대위로 예편하였고 이후 땅콩· 면화 등을 가꿔 많은 돈을 벌었다.', '그의 별명이 \" 땅콩 농부\" 로 알려 졌다.']\n",
      "['1962년 조지아 주 상원 의원 선거에서 낙선하나 그 선거가 부정선거 였음을 입증하게 되어 당선되고, 1966년 조지아 주 지사 선거에 낙선하지만 1970년 조지아 주 지사를 역임했다.', '대통령이 되기 전 조지 아주 상원의원을 두 번 연임했으며, 1971년부터 1975년까지 조지아 지사로 근무했다.', '조지아 주지사로 지내면서, 미국에 사는 흑인 등 용법을 내세웠다.']\n",
      "['1976년 대통령 선거에 민주당 후보로 출마하여 도덕주의 정책으로 내세워, 포드를 누르고 당선되었다.']\n",
      "['카 터 대통령은 에너지 개발을 촉구했으나 공화당의 반대로 무산되었다.']\n",
      "['카 터는 이집트와 이스라엘을 조정하여, 캠프 데이 비드에서 안와 르 사다트 대통령과 메나 헴 베 긴 수상과 함께 중동 평화를 위한 캠프 데이 비드 협정을 체결했다.']\n",
      "['그러나 이것은 공화당과 미국의 유대인 단체의 반발을 일으켰다.', '1979년 백악관에서 양국 간의 평화조약으로 이끌어 졌다.', '또 한 소련과 제 2차 전략 무기 제한 협상에 조인했다.']\n",
      "['카 터는 1970년대 후반 당시 대한민국 등 인권 후진국의 국민들의 인권을 지키기 위해 노력했으며, 취임 이후 계속해서 도덕정치를 내세웠다.']\n",
      "['그러나 주 이란 미국 대사관 인질 사건에서 인질 구출 실패를 이유로 1980년 대통령 선거에서 공화당의 로 널드 레이건 후보에게 져 결국 재선에 실패했다.', '또 한 임기 말기에 터진 소련의 아 프 가 니스 탄 침공 사건으로 인해 1980년 하계 올림픽에 반공국가들의 보이콧을 내세웠다.']\n",
      "0\n"
     ]
    }
   ],
   "source": [
    "import re\n",
    "from konlpy.tag import Kkma\n",
    "kkma = Kkma()\n",
    "f = open('wiki_00', encoding=\"utf8\")\n",
    "i=0\n",
    "sentence_list = []\n",
    "one_Count = 0\n",
    "while True:\n",
    "    line = f.readline()\n",
    "    if not line: break\n",
    "    if line != '\\n':\n",
    "        i=i+1\n",
    "        line = re.sub('<.+?>', '', line, 0, re.S)\n",
    "        line = re.sub('\\(.+?\\)', '', line, 0, re.S)\n",
    "        line = re.sub('\\[.+?\\]', '', line, 0, re.S)\n",
    "        line = re.sub('\\{.+?\\}', '', line, 0, re.S)\n",
    "        if len(line) >1:\n",
    "            print(kkma.sentences(line))\n",
    "    if i>10 : break\n",
    "f.close()\n",
    "print(one_Count)"
   ]
  },
  {
   "cell_type": "code",
   "execution_count": null,
   "metadata": {},
   "outputs": [],
   "source": []
  },
  {
   "cell_type": "code",
   "execution_count": null,
   "metadata": {},
   "outputs": [],
   "source": []
  }
 ],
 "metadata": {
  "kernelspec": {
   "display_name": "Python 3",
   "language": "python",
   "name": "python3"
  },
  "language_info": {
   "codemirror_mode": {
    "name": "ipython",
    "version": 3
   },
   "file_extension": ".py",
   "mimetype": "text/x-python",
   "name": "python",
   "nbconvert_exporter": "python",
   "pygments_lexer": "ipython3",
   "version": "3.7.4"
  }
 },
 "nbformat": 4,
 "nbformat_minor": 2
}
